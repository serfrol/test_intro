{
  "nbformat": 4,
  "nbformat_minor": 0,
  "metadata": {
    "colab": {
      "name": "stocks.ipynb",
      "provenance": [],
      "collapsed_sections": [
        "ifQd5orF8qlr",
        "8RTFhSnpV_QH",
        "xE8huiJxR0ur",
        "wy58Bk7oiiuX",
        "zKJJCRjvilg_",
        "Xpiqmiqyi0xA",
        "RJ0vqQAvs3sT"
      ],
      "authorship_tag": "ABX9TyN/oNnxLzIukkYtvR9xWV3U"
    },
    "kernelspec": {
      "name": "python3",
      "display_name": "Python 3"
    },
    "language_info": {
      "name": "python"
    }
  },
  "cells": [
    {
      "cell_type": "markdown",
      "source": [
        "# Import"
      ],
      "metadata": {
        "id": "ifQd5orF8qlr"
      }
    },
    {
      "cell_type": "code",
      "execution_count": 1,
      "metadata": {
        "id": "KKdOxmzbxXm8"
      },
      "outputs": [],
      "source": [
        "import numpy as np\n",
        "import pandas as pd\n",
        "import matplotlib.pyplot as plt\n",
        "import seaborn as sns\n",
        "import pickle\n",
        "import zipfile\n",
        "import csv\n",
        "import sys\n",
        "import os\n",
        "import os, re, math, random, time, gc, string, pickle, shutil, pathlib, itertools\n",
        "import requests\n",
        "import datetime\n",
        "import statsmodels.api as sm\n",
        "from scipy.stats import t\n",
        "\n",
        "import scipy as sp\n",
        "import scipy.stats as sps\n",
        "import scipy.optimize as spop"
      ]
    },
    {
      "cell_type": "code",
      "source": [
        "import warnings\n",
        "warnings.filterwarnings(\"ignore\")"
      ],
      "metadata": {
        "id": "l0XnEqBSXOIG"
      },
      "execution_count": 2,
      "outputs": []
    },
    {
      "cell_type": "code",
      "source": [
        "colors = ['#001c57', '#50248f', '#a6a6a6', '#38d1ff','#cc3181']\n",
        "sns.palplot(sns.color_palette(colors))"
      ],
      "metadata": {
        "colab": {
          "base_uri": "https://localhost:8080/",
          "height": 0
        },
        "id": "7YCrgzAnCnmt",
        "outputId": "900a2df9-f191-4674-feb9-29c04bf0b700"
      },
      "execution_count": 3,
      "outputs": [
        {
          "output_type": "display_data",
          "data": {
            "text/plain": [
              "<Figure size 360x72 with 1 Axes>"
            ],
            "image/png": "[encoded data removed]"
          },
          "metadata": {
            "needs_background": "light"
          }
        }
      ]
    },
    {
      "cell_type": "markdown",
      "source": [
        "# Upload Data"
      ],
      "metadata": {
        "id": "Z3TSKNKl8tGi"
      }
    },
    {
      "cell_type": "markdown",
      "source": [
        "### Load API"
      ],
      "metadata": {
        "id": "X2630k857FTJ"
      }
    },
    {
      "cell_type": "code",
      "source": [
        "%cd /content\n",
        "from google.colab import files\n",
        "import io\n",
        "import json\n",
        "\n",
        "uploaded = files.upload()\n",
        "\n",
        "file = io.BytesIO(uploaded['alpha_api.json'])\n",
        "credentials = json.load(file)\n",
        "api_key = credentials['api_key']"
      ],
      "metadata": {
        "colab": {
          "resources": {
            "http://localhost:8080/nbextensions/google.colab/files.js": {
              "data": "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",
              "ok": true,
              "headers": [
                [
                  "content-type",
                  "application/javascript"
                ]
              ],
              "status": 200,
              "status_text": ""
            }
          },
          "base_uri": "https://localhost:8080/",
          "height": 90
        },
        "id": "yEMAT1xH7BTn",
        "outputId": "9dfb0fe9-83ba-4980-a427-22736b8e2fc8"
      },
      "execution_count": 5,
      "outputs": [
        {
          "output_type": "stream",
          "name": "stdout",
          "text": [
            "/content\n"
          ]
        },
        {
          "output_type": "display_data",
          "data": {
            "text/plain": [
              "<IPython.core.display.HTML object>"
            ],
            "text/html": [
              "\n",
              "     <input type=\"file\" id=\"files-4064cd86-5c8b-49ac-b14c-d0b88834a620\" name=\"files[]\" multiple disabled\n",
              "        style=\"border:none\" />\n",
              "     <output id=\"result-4064cd86-5c8b-49ac-b14c-d0b88834a620\">\n",
              "      Upload widget is only available when the cell has been executed in the\n",
              "      current browser session. Please rerun this cell to enable.\n",
              "      </output>\n",
              "      <script src=\"/nbextensions/google.colab/files.js\"></script> "
            ]
          },
          "metadata": {}
        },
        {
          "output_type": "stream",
          "name": "stdout",
          "text": [
            "Saving alpha_api.json to alpha_api.json\n"
          ]
        }
      ]
    },
    {
      "cell_type": "markdown",
      "source": [
        "### Upload per stock"
      ],
      "metadata": {
        "id": "1pL4Bwd68xwF"
      }
    },
    {
      "cell_type": "code",
      "source": [
        "url = f'https://www.alphavantage.co/query?function=TIME_SERIES_DAILY&symbol=AAPL&apikey={api_key}&outputsize=full'\n",
        "r = requests.get(url)\n",
        "data_apple = r.json()"
      ],
      "metadata": {
        "id": "-VNV832KxgyA"
      },
      "execution_count": 6,
      "outputs": []
    },
    {
      "cell_type": "code",
      "source": [
        "df_apple = pd.DataFrame(data_apple['Time Series (Daily)'])\n",
        "df_apple = df_apple.swapaxes('index', 'columns')\n",
        "df_apple['symbol'] = 'AAPL'"
      ],
      "metadata": {
        "id": "HsYs4yayyUbo"
      },
      "execution_count": 7,
      "outputs": []
    },
    {
      "cell_type": "code",
      "source": [
        "url = f'https://www.alphavantage.co/query?function=TIME_SERIES_DAILY&symbol=Meta&apikey={api_key}&outputsize=full'\n",
        "r = requests.get(url)\n",
        "data_fb = r.json()"
      ],
      "metadata": {
        "id": "TD6OzTOIy-dv"
      },
      "execution_count": 8,
      "outputs": []
    },
    {
      "cell_type": "code",
      "source": [
        "df_fb = pd.DataFrame(data_fb['Time Series (Daily)'])\n",
        "df_fb = df_fb.swapaxes('index', 'columns')\n",
        "df_fb['symbol'] = 'Meta'"
      ],
      "metadata": {
        "id": "5dzmh5n9zy_m"
      },
      "execution_count": 9,
      "outputs": []
    },
    {
      "cell_type": "code",
      "source": [
        "url = f'https://www.alphavantage.co/query?function=TIME_SERIES_DAILY&symbol=GOOGL&apikey={api_key}&outputsize=full'\n",
        "r = requests.get(url)\n",
        "data_g = r.json()"
      ],
      "metadata": {
        "id": "fPJx__US0BQF"
      },
      "execution_count": 10,
      "outputs": []
    },
    {
      "cell_type": "code",
      "source": [
        "df_g = pd.DataFrame(data_g['Time Series (Daily)'])\n",
        "df_g = df_g.swapaxes('index', 'columns')\n",
        "df_g['symbol'] = 'GOOGL'"
      ],
      "metadata": {
        "id": "04wYHUET0m8m"
      },
      "execution_count": 11,
      "outputs": []
    },
    {
      "cell_type": "markdown",
      "source": [
        "### Combine"
      ],
      "metadata": {
        "id": "G__k4zbV85Qu"
      }
    },
    {
      "cell_type": "markdown",
      "source": [
        "Taking last 10 years (starting 26 aug 2012) and concatenating"
      ],
      "metadata": {
        "id": "7a7vo8-1873C"
      }
    },
    {
      "cell_type": "code",
      "source": [
        "df_fb.index = pd.to_datetime(df_fb.index)\n",
        "df_g.index = pd.to_datetime(df_g.index)\n",
        "df_apple.index = pd.to_datetime(df_apple.index)"
      ],
      "metadata": {
        "id": "W-Aa8Y4i3P33"
      },
      "execution_count": 12,
      "outputs": []
    },
    {
      "cell_type": "code",
      "source": [
        "df_fb = df_fb[df_fb.index.date > datetime.date(2012, 8, 23)]\n",
        "df_g = df_g[df_g.index.date > datetime.date(2012, 8, 23)]\n",
        "df_apple = df_apple[df_apple.index.date > datetime.date(2012, 8, 23)]"
      ],
      "metadata": {
        "id": "K6yCcFQ74Hwv"
      },
      "execution_count": 13,
      "outputs": []
    },
    {
      "cell_type": "code",
      "source": [
        "len(df_fb), len(df_g), len(df_apple)"
      ],
      "metadata": {
        "colab": {
          "base_uri": "https://localhost:8080/"
        },
        "id": "X1YpNVCh5NrY",
        "outputId": "67a62924-188c-4122-afb5-b049a4ab9e33"
      },
      "execution_count": 14,
      "outputs": [
        {
          "output_type": "execute_result",
          "data": {
            "text/plain": [
              "(2520, 2520, 2520)"
            ]
          },
          "metadata": {},
          "execution_count": 14
        }
      ]
    },
    {
      "cell_type": "code",
      "source": [
        "df = pd.concat([df_fb, df_g, df_apple])"
      ],
      "metadata": {
        "id": "Qk0MlMEq5ZPE"
      },
      "execution_count": 15,
      "outputs": []
    },
    {
      "cell_type": "code",
      "source": [
        "# rename columns\n",
        "df.columns = ['open', 'high', 'low', 'close', 'volume', 'symbol']"
      ],
      "metadata": {
        "id": "Z83cs7Rl_ZTF"
      },
      "execution_count": 16,
      "outputs": []
    },
    {
      "cell_type": "code",
      "source": [
        "# change dtypes\n",
        "df[['open', 'high', 'low', 'close']] = df[['open', 'high', 'low', 'close']].astype('float64')\n",
        "df['volume'] = df['volume'].astype('int64')"
      ],
      "metadata": {
        "id": "-70IqUc-DGTE"
      },
      "execution_count": 17,
      "outputs": []
    },
    {
      "cell_type": "code",
      "source": [
        "df.isna().sum()"
      ],
      "metadata": {
        "colab": {
          "base_uri": "https://localhost:8080/"
        },
        "id": "1EAhdDGD5i-h",
        "outputId": "86758bd4-3221-487f-9f87-ac617adce24c"
      },
      "execution_count": 18,
      "outputs": [
        {
          "output_type": "execute_result",
          "data": {
            "text/plain": [
              "open      0\n",
              "high      0\n",
              "low       0\n",
              "close     0\n",
              "volume    0\n",
              "symbol    0\n",
              "dtype: int64"
            ]
          },
          "metadata": {},
          "execution_count": 18
        }
      ]
    },
    {
      "cell_type": "code",
      "source": [
        "df.duplicated().sum()"
      ],
      "metadata": {
        "colab": {
          "base_uri": "https://localhost:8080/"
        },
        "id": "UHbS_QSk9TUm",
        "outputId": "0eae6e00-595a-4acb-ee75-45bf043ec187"
      },
      "execution_count": 19,
      "outputs": [
        {
          "output_type": "execute_result",
          "data": {
            "text/plain": [
              "0"
            ]
          },
          "metadata": {},
          "execution_count": 19
        }
      ]
    },
    {
      "cell_type": "markdown",
      "source": [
        "### To CSV file"
      ],
      "metadata": {
        "id": "XH0bPOIy9IoA"
      }
    },
    {
      "cell_type": "code",
      "source": [
        "from google.colab import drive\n",
        "drive.mount('/gdrive')\n",
        "%cd /gdrive"
      ],
      "metadata": {
        "colab": {
          "base_uri": "https://localhost:8080/"
        },
        "id": "E6sQhe0W5xIT",
        "outputId": "e9ace099-c0cf-41c5-8d6b-5ca50fad243b"
      },
      "execution_count": 20,
      "outputs": [
        {
          "output_type": "stream",
          "name": "stdout",
          "text": [
            "Mounted at /gdrive\n",
            "/gdrive\n"
          ]
        }
      ]
    },
    {
      "cell_type": "code",
      "source": [
        "# %cd /content\n",
        "# df.to_csv('stocks_data_10y.csv', index_label=False)\n",
        "# !cp stocks_data_10y.csv \"/gdrive/MyDrive/\""
      ],
      "metadata": {
        "id": "SYt9PHNn9MUT"
      },
      "execution_count": 21,
      "outputs": []
    },
    {
      "cell_type": "code",
      "source": [
        "df = pd.read_csv('/gdrive/MyDrive/stocks_data_10y.csv')\n",
        "df.index = pd.to_datetime(df.index)\n",
        "df.head()"
      ],
      "metadata": {
        "colab": {
          "base_uri": "https://localhost:8080/",
          "height": 206
        },
        "id": "bDFFZPmp435g",
        "outputId": "a483f8fa-39e3-44a4-91f1-f4265bccea0f"
      },
      "execution_count": 22,
      "outputs": [
        {
          "output_type": "execute_result",
          "data": {
            "text/plain": [
              "               open    high       low   close    volume symbol\n",
              "2022-08-29  160.655  163.05  159.0100  159.17  19771863   Meta\n",
              "2022-08-26  168.480  170.92  161.6726  161.78  24023633   Meta\n",
              "2022-08-25  165.180  168.88  164.0200  168.78  15550514   Meta\n",
              "2022-08-24  160.600  165.46  159.7700  163.26  20891481   Meta\n",
              "2022-08-23  162.480  165.05  160.7000  161.11  18111777   Meta"
            ],
            "text/html": [
              "\n",
              "  <div id=\"df-b1041198-3b49-4ecf-baad-616cacb3a76a\">\n",
              "    <div class=\"colab-df-container\">\n",
              "      <div>\n",
              "<style scoped>\n",
              "    .dataframe tbody tr th:only-of-type {\n",
              "        vertical-align: middle;\n",
              "    }\n",
              "\n",
              "    .dataframe tbody tr th {\n",
              "        vertical-align: top;\n",
              "    }\n",
              "\n",
              "    .dataframe thead th {\n",
              "        text-align: right;\n",
              "    }\n",
              "</style>\n",
              "<table border=\"1\" class=\"dataframe\">\n",
              "  <thead>\n",
              "    <tr style=\"text-align: right;\">\n",
              "      <th></th>\n",
              "      <th>open</th>\n",
              "      <th>high</th>\n",
              "      <th>low</th>\n",
              "      <th>close</th>\n",
              "      <th>volume</th>\n",
              "      <th>symbol</th>\n",
              "    </tr>\n",
              "  </thead>\n",
              "  <tbody>\n",
              "    <tr>\n",
              "      <th>2022-08-29</th>\n",
              "      <td>160.655</td>\n",
              "      <td>163.05</td>\n",
              "      <td>159.0100</td>\n",
              "      <td>159.17</td>\n",
              "      <td>19771863</td>\n",
              "      <td>Meta</td>\n",
              "    </tr>\n",
              "    <tr>\n",
              "      <th>2022-08-26</th>\n",
              "      <td>168.480</td>\n",
              "      <td>170.92</td>\n",
              "      <td>161.6726</td>\n",
              "      <td>161.78</td>\n",
              "      <td>24023633</td>\n",
              "      <td>Meta</td>\n",
              "    </tr>\n",
              "    <tr>\n",
              "      <th>2022-08-25</th>\n",
              "      <td>165.180</td>\n",
              "      <td>168.88</td>\n",
              "      <td>164.0200</td>\n",
              "      <td>168.78</td>\n",
              "      <td>15550514</td>\n",
              "      <td>Meta</td>\n",
              "    </tr>\n",
              "    <tr>\n",
              "      <th>2022-08-24</th>\n",
              "      <td>160.600</td>\n",
              "      <td>165.46</td>\n",
              "      <td>159.7700</td>\n",
              "      <td>163.26</td>\n",
              "      <td>20891481</td>\n",
              "      <td>Meta</td>\n",
              "    </tr>\n",
              "    <tr>\n",
              "      <th>2022-08-23</th>\n",
              "      <td>162.480</td>\n",
              "      <td>165.05</td>\n",
              "      <td>160.7000</td>\n",
              "      <td>161.11</td>\n",
              "      <td>18111777</td>\n",
              "      <td>Meta</td>\n",
              "    </tr>\n",
              "  </tbody>\n",
              "</table>\n",
              "</div>\n",
              "      <button class=\"colab-df-convert\" onclick=\"convertToInteractive('df-b1041198-3b49-4ecf-baad-616cacb3a76a')\"\n",
              "              title=\"Convert this dataframe to an interactive table.\"\n",
              "              style=\"display:none;\">\n",
              "        \n",
              "  <svg xmlns=\"http://www.w3.org/2000/svg\" height=\"24px\"viewBox=\"0 0 24 24\"\n",
              "       width=\"24px\">\n",
              "    <path d=\"M0 0h24v24H0V0z\" fill=\"none\"/>\n",
              "    <path d=\"M18.56 5.44l.94 2.06.94-2.06 2.06-.94-2.06-.94-.94-2.06-.94 2.06-2.06.94zm-11 1L8.5 8.5l.94-2.06 2.06-.94-2.06-.94L8.5 2.5l-.94 2.06-2.06.94zm10 10l.94 2.06.94-2.06 2.06-.94-2.06-.94-.94-2.06-.94 2.06-2.06.94z\"/><path d=\"M17.41 7.96l-1.37-1.37c-.4-.4-.92-.59-1.43-.59-.52 0-1.04.2-1.43.59L10.3 9.45l-7.72 7.72c-.78.78-.78 2.05 0 2.83L4 21.41c.39.39.9.59 1.41.59.51 0 1.02-.2 1.41-.59l7.78-7.78 2.81-2.81c.8-.78.8-2.07 0-2.86zM5.41 20L4 18.59l7.72-7.72 1.47 1.35L5.41 20z\"/>\n",
              "  </svg>\n",
              "      </button>\n",
              "      \n",
              "  <style>\n",
              "    .colab-df-container {\n",
              "      display:flex;\n",
              "      flex-wrap:wrap;\n",
              "      gap: 12px;\n",
              "    }\n",
              "\n",
              "    .colab-df-convert {\n",
              "      background-color: #E8F0FE;\n",
              "      border: none;\n",
              "      border-radius: 50%;\n",
              "      cursor: pointer;\n",
              "      display: none;\n",
              "      fill: #1967D2;\n",
              "      height: 32px;\n",
              "      padding: 0 0 0 0;\n",
              "      width: 32px;\n",
              "    }\n",
              "\n",
              "    .colab-df-convert:hover {\n",
              "      background-color: #E2EBFA;\n",
              "      box-shadow: 0px 1px 2px rgba(60, 64, 67, 0.3), 0px 1px 3px 1px rgba(60, 64, 67, 0.15);\n",
              "      fill: #174EA6;\n",
              "    }\n",
              "\n",
              "    [theme=dark] .colab-df-convert {\n",
              "      background-color: #3B4455;\n",
              "      fill: #D2E3FC;\n",
              "    }\n",
              "\n",
              "    [theme=dark] .colab-df-convert:hover {\n",
              "      background-color: #434B5C;\n",
              "      box-shadow: 0px 1px 3px 1px rgba(0, 0, 0, 0.15);\n",
              "      filter: drop-shadow(0px 1px 2px rgba(0, 0, 0, 0.3));\n",
              "      fill: #FFFFFF;\n",
              "    }\n",
              "  </style>\n",
              "\n",
              "      <script>\n",
              "        const buttonEl =\n",
              "          document.querySelector('#df-b1041198-3b49-4ecf-baad-616cacb3a76a button.colab-df-convert');\n",
              "        buttonEl.style.display =\n",
              "          google.colab.kernel.accessAllowed ? 'block' : 'none';\n",
              "\n",
              "        async function convertToInteractive(key) {\n",
              "          const element = document.querySelector('#df-b1041198-3b49-4ecf-baad-616cacb3a76a');\n",
              "          const dataTable =\n",
              "            await google.colab.kernel.invokeFunction('convertToInteractive',\n",
              "                                                     [key], {});\n",
              "          if (!dataTable) return;\n",
              "\n",
              "          const docLinkHtml = 'Like what you see? Visit the ' +\n",
              "            '<a target=\"_blank\" href=https://colab.research.google.com/notebooks/data_table.ipynb>data table notebook</a>'\n",
              "            + ' to learn more about interactive tables.';\n",
              "          element.innerHTML = '';\n",
              "          dataTable['output_type'] = 'display_data';\n",
              "          await google.colab.output.renderOutput(dataTable, element);\n",
              "          const docLink = document.createElement('div');\n",
              "          docLink.innerHTML = docLinkHtml;\n",
              "          element.appendChild(docLink);\n",
              "        }\n",
              "      </script>\n",
              "    </div>\n",
              "  </div>\n",
              "  "
            ]
          },
          "metadata": {},
          "execution_count": 22
        }
      ]
    },
    {
      "cell_type": "markdown",
      "source": [
        "# Tasks"
      ],
      "metadata": {
        "id": "O5vxBQxX_2Co"
      }
    },
    {
      "cell_type": "code",
      "source": [
        "# backup\n",
        "temp_df = df.copy()\n",
        "# df = temp_df.copy()"
      ],
      "metadata": {
        "id": "kfwXMBISAcgq"
      },
      "execution_count": 23,
      "outputs": []
    },
    {
      "cell_type": "markdown",
      "source": [
        "## Daily returns"
      ],
      "metadata": {
        "id": "dbfxsnMO__yq"
      }
    },
    {
      "cell_type": "code",
      "source": [
        "df = df.sort_index()"
      ],
      "metadata": {
        "id": "WrCOEhOF_6A8"
      },
      "execution_count": 24,
      "outputs": []
    },
    {
      "cell_type": "code",
      "source": [
        "df_group = df.groupby('symbol')['close']\n",
        "shifted = df_group.shift(1) # the day before"
      ],
      "metadata": {
        "id": "YClq6QYsMmSJ"
      },
      "execution_count": 25,
      "outputs": []
    },
    {
      "cell_type": "code",
      "source": [
        "df['return'] = (shifted / df.close) - 1"
      ],
      "metadata": {
        "id": "U6FhxlurEzAl"
      },
      "execution_count": 26,
      "outputs": []
    },
    {
      "cell_type": "code",
      "source": [
        "# df['return'] = df.groupby('symbol')['close'].pct_change(1) # or we could use built-in function"
      ],
      "metadata": {
        "id": "8MysJha1Ux3m"
      },
      "execution_count": 27,
      "outputs": []
    },
    {
      "cell_type": "code",
      "source": [
        "fdf = df.copy() # full df with NaN in return\n",
        "df = df[3:] # exclude 3 missing values"
      ],
      "metadata": {
        "id": "e0jdNCJXV6Fm"
      },
      "execution_count": 28,
      "outputs": []
    },
    {
      "cell_type": "code",
      "source": [
        "df.head()"
      ],
      "metadata": {
        "colab": {
          "base_uri": "https://localhost:8080/",
          "height": 206
        },
        "id": "loVTsF-059tV",
        "outputId": "54213941-c234-48a5-86c8-ed833654b3a9"
      },
      "execution_count": 29,
      "outputs": [
        {
          "output_type": "execute_result",
          "data": {
            "text/plain": [
              "                open    high      low   close    volume symbol    return\n",
              "2012-08-27  662.9900  672.00  659.240  669.22   5222100  GOOGL  0.014061\n",
              "2012-08-27   19.4900   19.53   19.100   19.15  20704000   Meta  0.013525\n",
              "2012-08-27  679.9900  680.87  673.540  675.68  15250300   AAPL -0.018438\n",
              "2012-08-28   19.1000   19.38   18.950   19.34  25417000   Meta -0.009824\n",
              "2012-08-28  674.9773  676.10  670.673  674.80   9550600   AAPL  0.001304"
            ],
            "text/html": [
              "\n",
              "  <div id=\"df-2a4c527b-0a81-4e7c-a445-38d7b2d93ba7\">\n",
              "    <div class=\"colab-df-container\">\n",
              "      <div>\n",
              "<style scoped>\n",
              "    .dataframe tbody tr th:only-of-type {\n",
              "        vertical-align: middle;\n",
              "    }\n",
              "\n",
              "    .dataframe tbody tr th {\n",
              "        vertical-align: top;\n",
              "    }\n",
              "\n",
              "    .dataframe thead th {\n",
              "        text-align: right;\n",
              "    }\n",
              "</style>\n",
              "<table border=\"1\" class=\"dataframe\">\n",
              "  <thead>\n",
              "    <tr style=\"text-align: right;\">\n",
              "      <th></th>\n",
              "      <th>open</th>\n",
              "      <th>high</th>\n",
              "      <th>low</th>\n",
              "      <th>close</th>\n",
              "      <th>volume</th>\n",
              "      <th>symbol</th>\n",
              "      <th>return</th>\n",
              "    </tr>\n",
              "  </thead>\n",
              "  <tbody>\n",
              "    <tr>\n",
              "      <th>2012-08-27</th>\n",
              "      <td>662.9900</td>\n",
              "      <td>672.00</td>\n",
              "      <td>659.240</td>\n",
              "      <td>669.22</td>\n",
              "      <td>5222100</td>\n",
              "      <td>GOOGL</td>\n",
              "      <td>0.014061</td>\n",
              "    </tr>\n",
              "    <tr>\n",
              "      <th>2012-08-27</th>\n",
              "      <td>19.4900</td>\n",
              "      <td>19.53</td>\n",
              "      <td>19.100</td>\n",
              "      <td>19.15</td>\n",
              "      <td>20704000</td>\n",
              "      <td>Meta</td>\n",
              "      <td>0.013525</td>\n",
              "    </tr>\n",
              "    <tr>\n",
              "      <th>2012-08-27</th>\n",
              "      <td>679.9900</td>\n",
              "      <td>680.87</td>\n",
              "      <td>673.540</td>\n",
              "      <td>675.68</td>\n",
              "      <td>15250300</td>\n",
              "      <td>AAPL</td>\n",
              "      <td>-0.018438</td>\n",
              "    </tr>\n",
              "    <tr>\n",
              "      <th>2012-08-28</th>\n",
              "      <td>19.1000</td>\n",
              "      <td>19.38</td>\n",
              "      <td>18.950</td>\n",
              "      <td>19.34</td>\n",
              "      <td>25417000</td>\n",
              "      <td>Meta</td>\n",
              "      <td>-0.009824</td>\n",
              "    </tr>\n",
              "    <tr>\n",
              "      <th>2012-08-28</th>\n",
              "      <td>674.9773</td>\n",
              "      <td>676.10</td>\n",
              "      <td>670.673</td>\n",
              "      <td>674.80</td>\n",
              "      <td>9550600</td>\n",
              "      <td>AAPL</td>\n",
              "      <td>0.001304</td>\n",
              "    </tr>\n",
              "  </tbody>\n",
              "</table>\n",
              "</div>\n",
              "      <button class=\"colab-df-convert\" onclick=\"convertToInteractive('df-2a4c527b-0a81-4e7c-a445-38d7b2d93ba7')\"\n",
              "              title=\"Convert this dataframe to an interactive table.\"\n",
              "              style=\"display:none;\">\n",
              "        \n",
              "  <svg xmlns=\"http://www.w3.org/2000/svg\" height=\"24px\"viewBox=\"0 0 24 24\"\n",
              "       width=\"24px\">\n",
              "    <path d=\"M0 0h24v24H0V0z\" fill=\"none\"/>\n",
              "    <path d=\"M18.56 5.44l.94 2.06.94-2.06 2.06-.94-2.06-.94-.94-2.06-.94 2.06-2.06.94zm-11 1L8.5 8.5l.94-2.06 2.06-.94-2.06-.94L8.5 2.5l-.94 2.06-2.06.94zm10 10l.94 2.06.94-2.06 2.06-.94-2.06-.94-.94-2.06-.94 2.06-2.06.94z\"/><path d=\"M17.41 7.96l-1.37-1.37c-.4-.4-.92-.59-1.43-.59-.52 0-1.04.2-1.43.59L10.3 9.45l-7.72 7.72c-.78.78-.78 2.05 0 2.83L4 21.41c.39.39.9.59 1.41.59.51 0 1.02-.2 1.41-.59l7.78-7.78 2.81-2.81c.8-.78.8-2.07 0-2.86zM5.41 20L4 18.59l7.72-7.72 1.47 1.35L5.41 20z\"/>\n",
              "  </svg>\n",
              "      </button>\n",
              "      \n",
              "  <style>\n",
              "    .colab-df-container {\n",
              "      display:flex;\n",
              "      flex-wrap:wrap;\n",
              "      gap: 12px;\n",
              "    }\n",
              "\n",
              "    .colab-df-convert {\n",
              "      background-color: #E8F0FE;\n",
              "      border: none;\n",
              "      border-radius: 50%;\n",
              "      cursor: pointer;\n",
              "      display: none;\n",
              "      fill: #1967D2;\n",
              "      height: 32px;\n",
              "      padding: 0 0 0 0;\n",
              "      width: 32px;\n",
              "    }\n",
              "\n",
              "    .colab-df-convert:hover {\n",
              "      background-color: #E2EBFA;\n",
              "      box-shadow: 0px 1px 2px rgba(60, 64, 67, 0.3), 0px 1px 3px 1px rgba(60, 64, 67, 0.15);\n",
              "      fill: #174EA6;\n",
              "    }\n",
              "\n",
              "    [theme=dark] .colab-df-convert {\n",
              "      background-color: #3B4455;\n",
              "      fill: #D2E3FC;\n",
              "    }\n",
              "\n",
              "    [theme=dark] .colab-df-convert:hover {\n",
              "      background-color: #434B5C;\n",
              "      box-shadow: 0px 1px 3px 1px rgba(0, 0, 0, 0.15);\n",
              "      filter: drop-shadow(0px 1px 2px rgba(0, 0, 0, 0.3));\n",
              "      fill: #FFFFFF;\n",
              "    }\n",
              "  </style>\n",
              "\n",
              "      <script>\n",
              "        const buttonEl =\n",
              "          document.querySelector('#df-2a4c527b-0a81-4e7c-a445-38d7b2d93ba7 button.colab-df-convert');\n",
              "        buttonEl.style.display =\n",
              "          google.colab.kernel.accessAllowed ? 'block' : 'none';\n",
              "\n",
              "        async function convertToInteractive(key) {\n",
              "          const element = document.querySelector('#df-2a4c527b-0a81-4e7c-a445-38d7b2d93ba7');\n",
              "          const dataTable =\n",
              "            await google.colab.kernel.invokeFunction('convertToInteractive',\n",
              "                                                     [key], {});\n",
              "          if (!dataTable) return;\n",
              "\n",
              "          const docLinkHtml = 'Like what you see? Visit the ' +\n",
              "            '<a target=\"_blank\" href=https://colab.research.google.com/notebooks/data_table.ipynb>data table notebook</a>'\n",
              "            + ' to learn more about interactive tables.';\n",
              "          element.innerHTML = '';\n",
              "          dataTable['output_type'] = 'display_data';\n",
              "          await google.colab.output.renderOutput(dataTable, element);\n",
              "          const docLink = document.createElement('div');\n",
              "          docLink.innerHTML = docLinkHtml;\n",
              "          element.appendChild(docLink);\n",
              "        }\n",
              "      </script>\n",
              "    </div>\n",
              "  </div>\n",
              "  "
            ]
          },
          "metadata": {},
          "execution_count": 29
        }
      ]
    },
    {
      "cell_type": "markdown",
      "source": [
        "## Distribution"
      ],
      "metadata": {
        "id": "8RTFhSnpV_QH"
      }
    },
    {
      "cell_type": "code",
      "source": [
        "symbols = df.symbol.unique()\n",
        "symbols"
      ],
      "metadata": {
        "colab": {
          "base_uri": "https://localhost:8080/"
        },
        "id": "7ve3YE8yW6J9",
        "outputId": "10622558-a3e9-4e73-a1e0-e7071cea0d9f"
      },
      "execution_count": 30,
      "outputs": [
        {
          "output_type": "execute_result",
          "data": {
            "text/plain": [
              "array(['GOOGL', 'Meta', 'AAPL'], dtype=object)"
            ]
          },
          "metadata": {},
          "execution_count": 30
        }
      ]
    },
    {
      "cell_type": "code",
      "source": [
        "grouped_return = df.groupby('symbol')['return'].describe()\n",
        "grouped_return"
      ],
      "metadata": {
        "id": "N2G61Vv4Wi5I",
        "colab": {
          "base_uri": "https://localhost:8080/",
          "height": 175
        },
        "outputId": "b615cdfd-bf10-4232-fc0a-905140c9d0c5"
      },
      "execution_count": 31,
      "outputs": [
        {
          "output_type": "execute_result",
          "data": {
            "text/plain": [
              "         count      mean       std       min       25%       50%       75%  \\\n",
              "symbol                                                                       \n",
              "AAPL    2518.0  0.002901  0.131818 -0.106990 -0.010201 -0.000671  0.007588   \n",
              "GOOGL   2518.0  0.007527  0.389535 -0.139847 -0.008891 -0.000837  0.006646   \n",
              "Meta    2518.0 -0.000550  0.024034 -0.228441 -0.012384 -0.001054  0.009713   \n",
              "\n",
              "              max  \n",
              "symbol             \n",
              "AAPL     5.889755  \n",
              "GOOGL   19.503990  \n",
              "Meta     0.358513  "
            ],
            "text/html": [
              "\n",
              "  <div id=\"df-48ba88ba-f3c3-4b3e-873b-02a1fc6e0d29\">\n",
              "    <div class=\"colab-df-container\">\n",
              "      <div>\n",
              "<style scoped>\n",
              "    .dataframe tbody tr th:only-of-type {\n",
              "        vertical-align: middle;\n",
              "    }\n",
              "\n",
              "    .dataframe tbody tr th {\n",
              "        vertical-align: top;\n",
              "    }\n",
              "\n",
              "    .dataframe thead th {\n",
              "        text-align: right;\n",
              "    }\n",
              "</style>\n",
              "<table border=\"1\" class=\"dataframe\">\n",
              "  <thead>\n",
              "    <tr style=\"text-align: right;\">\n",
              "      <th></th>\n",
              "      <th>count</th>\n",
              "      <th>mean</th>\n",
              "      <th>std</th>\n",
              "      <th>min</th>\n",
              "      <th>25%</th>\n",
              "      <th>50%</th>\n",
              "      <th>75%</th>\n",
              "      <th>max</th>\n",
              "    </tr>\n",
              "    <tr>\n",
              "      <th>symbol</th>\n",
              "      <th></th>\n",
              "      <th></th>\n",
              "      <th></th>\n",
              "      <th></th>\n",
              "      <th></th>\n",
              "      <th></th>\n",
              "      <th></th>\n",
              "      <th></th>\n",
              "    </tr>\n",
              "  </thead>\n",
              "  <tbody>\n",
              "    <tr>\n",
              "      <th>AAPL</th>\n",
              "      <td>2518.0</td>\n",
              "      <td>0.002901</td>\n",
              "      <td>0.131818</td>\n",
              "      <td>-0.106990</td>\n",
              "      <td>-0.010201</td>\n",
              "      <td>-0.000671</td>\n",
              "      <td>0.007588</td>\n",
              "      <td>5.889755</td>\n",
              "    </tr>\n",
              "    <tr>\n",
              "      <th>GOOGL</th>\n",
              "      <td>2518.0</td>\n",
              "      <td>0.007527</td>\n",
              "      <td>0.389535</td>\n",
              "      <td>-0.139847</td>\n",
              "      <td>-0.008891</td>\n",
              "      <td>-0.000837</td>\n",
              "      <td>0.006646</td>\n",
              "      <td>19.503990</td>\n",
              "    </tr>\n",
              "    <tr>\n",
              "      <th>Meta</th>\n",
              "      <td>2518.0</td>\n",
              "      <td>-0.000550</td>\n",
              "      <td>0.024034</td>\n",
              "      <td>-0.228441</td>\n",
              "      <td>-0.012384</td>\n",
              "      <td>-0.001054</td>\n",
              "      <td>0.009713</td>\n",
              "      <td>0.358513</td>\n",
              "    </tr>\n",
              "  </tbody>\n",
              "</table>\n",
              "</div>\n",
              "      <button class=\"colab-df-convert\" onclick=\"convertToInteractive('df-48ba88ba-f3c3-4b3e-873b-02a1fc6e0d29')\"\n",
              "              title=\"Convert this dataframe to an interactive table.\"\n",
              "              style=\"display:none;\">\n",
              "        \n",
              "  <svg xmlns=\"http://www.w3.org/2000/svg\" height=\"24px\"viewBox=\"0 0 24 24\"\n",
              "       width=\"24px\">\n",
              "    <path d=\"M0 0h24v24H0V0z\" fill=\"none\"/>\n",
              "    <path d=\"M18.56 5.44l.94 2.06.94-2.06 2.06-.94-2.06-.94-.94-2.06-.94 2.06-2.06.94zm-11 1L8.5 8.5l.94-2.06 2.06-.94-2.06-.94L8.5 2.5l-.94 2.06-2.06.94zm10 10l.94 2.06.94-2.06 2.06-.94-2.06-.94-.94-2.06-.94 2.06-2.06.94z\"/><path d=\"M17.41 7.96l-1.37-1.37c-.4-.4-.92-.59-1.43-.59-.52 0-1.04.2-1.43.59L10.3 9.45l-7.72 7.72c-.78.78-.78 2.05 0 2.83L4 21.41c.39.39.9.59 1.41.59.51 0 1.02-.2 1.41-.59l7.78-7.78 2.81-2.81c.8-.78.8-2.07 0-2.86zM5.41 20L4 18.59l7.72-7.72 1.47 1.35L5.41 20z\"/>\n",
              "  </svg>\n",
              "      </button>\n",
              "      \n",
              "  <style>\n",
              "    .colab-df-container {\n",
              "      display:flex;\n",
              "      flex-wrap:wrap;\n",
              "      gap: 12px;\n",
              "    }\n",
              "\n",
              "    .colab-df-convert {\n",
              "      background-color: #E8F0FE;\n",
              "      border: none;\n",
              "      border-radius: 50%;\n",
              "      cursor: pointer;\n",
              "      display: none;\n",
              "      fill: #1967D2;\n",
              "      height: 32px;\n",
              "      padding: 0 0 0 0;\n",
              "      width: 32px;\n",
              "    }\n",
              "\n",
              "    .colab-df-convert:hover {\n",
              "      background-color: #E2EBFA;\n",
              "      box-shadow: 0px 1px 2px rgba(60, 64, 67, 0.3), 0px 1px 3px 1px rgba(60, 64, 67, 0.15);\n",
              "      fill: #174EA6;\n",
              "    }\n",
              "\n",
              "    [theme=dark] .colab-df-convert {\n",
              "      background-color: #3B4455;\n",
              "      fill: #D2E3FC;\n",
              "    }\n",
              "\n",
              "    [theme=dark] .colab-df-convert:hover {\n",
              "      background-color: #434B5C;\n",
              "      box-shadow: 0px 1px 3px 1px rgba(0, 0, 0, 0.15);\n",
              "      filter: drop-shadow(0px 1px 2px rgba(0, 0, 0, 0.3));\n",
              "      fill: #FFFFFF;\n",
              "    }\n",
              "  </style>\n",
              "\n",
              "      <script>\n",
              "        const buttonEl =\n",
              "          document.querySelector('#df-48ba88ba-f3c3-4b3e-873b-02a1fc6e0d29 button.colab-df-convert');\n",
              "        buttonEl.style.display =\n",
              "          google.colab.kernel.accessAllowed ? 'block' : 'none';\n",
              "\n",
              "        async function convertToInteractive(key) {\n",
              "          const element = document.querySelector('#df-48ba88ba-f3c3-4b3e-873b-02a1fc6e0d29');\n",
              "          const dataTable =\n",
              "            await google.colab.kernel.invokeFunction('convertToInteractive',\n",
              "                                                     [key], {});\n",
              "          if (!dataTable) return;\n",
              "\n",
              "          const docLinkHtml = 'Like what you see? Visit the ' +\n",
              "            '<a target=\"_blank\" href=https://colab.research.google.com/notebooks/data_table.ipynb>data table notebook</a>'\n",
              "            + ' to learn more about interactive tables.';\n",
              "          element.innerHTML = '';\n",
              "          dataTable['output_type'] = 'display_data';\n",
              "          await google.colab.output.renderOutput(dataTable, element);\n",
              "          const docLink = document.createElement('div');\n",
              "          docLink.innerHTML = docLinkHtml;\n",
              "          element.appendChild(docLink);\n",
              "        }\n",
              "      </script>\n",
              "    </div>\n",
              "  </div>\n",
              "  "
            ]
          },
          "metadata": {},
          "execution_count": 31
        }
      ]
    },
    {
      "cell_type": "code",
      "source": [
        "# skewness\n",
        "for i in symbols:\n",
        "  print(i, round(sps.skew(df[df['symbol'] == i]['return']), 3))"
      ],
      "metadata": {
        "colab": {
          "base_uri": "https://localhost:8080/"
        },
        "id": "S4XaC_5H9LuN",
        "outputId": "9a812eb1-810c-465b-a163-a9eeb9aff6e5"
      },
      "execution_count": 32,
      "outputs": [
        {
          "output_type": "stream",
          "name": "stdout",
          "text": [
            "GOOGL 49.829\n",
            "Meta 1.261\n",
            "AAPL 39.478\n"
          ]
        }
      ]
    },
    {
      "cell_type": "code",
      "source": [
        "# kurtosis\n",
        "for i in symbols:\n",
        "  print(i, round(sps.kurtosis(df[df['symbol'] == i]['return']), 3))"
      ],
      "metadata": {
        "colab": {
          "base_uri": "https://localhost:8080/"
        },
        "id": "owWsmCZBJosK",
        "outputId": "7ae30e02-6d61-412a-ba6d-b25dce4b2b3e"
      },
      "execution_count": 33,
      "outputs": [
        {
          "output_type": "stream",
          "name": "stdout",
          "text": [
            "GOOGL 2491.18\n",
            "Meta 29.83\n",
            "AAPL 1666.778\n"
          ]
        }
      ]
    },
    {
      "cell_type": "markdown",
      "source": [
        "### Distributions analysis"
      ],
      "metadata": {
        "id": "xE8huiJxR0ur"
      }
    },
    {
      "cell_type": "markdown",
      "source": [
        "Credit for next peace of code goes to https://www.youtube.com/watch?v=KFM9iO8QkPM\n"
      ],
      "metadata": {
        "id": "D4Lsq4sHR5Je"
      }
    },
    {
      "cell_type": "code",
      "source": [
        "for i in symbols:\n",
        "  data = pd.DataFrame()\n",
        "  data[0] = df[df['symbol'] == i]['return']\n",
        "\n",
        "  # rank samples from lower to calculate emperical distribution function\n",
        "  data['rank']=(data[0].rank(method='first'))/(len(data))\n",
        "  data=data.sort_values(by='rank').reset_index(drop=True)\n",
        "\n",
        "  # calculate most important statistics\n",
        "  mean = np.average(data[0])\n",
        "  med = np.median(data[0])\n",
        "  std = np.std(data[0])\n",
        "  var = std**2\n",
        "  skew = sps.skew(data[0])\n",
        "  kurt = sps.kurtosis(data[0])\n",
        "\n",
        "  # evaluate Laplas distribution parameters using method of maximum likelihood\n",
        "  loc_laplace = med\n",
        "  scale_laplace = np.average(abs(data[0]-med))\n",
        "\n",
        "  # evaluate method of Cauchy distribution using method of moments\n",
        "  loc_cauchy = med\n",
        "  scale_cauchy = (np.percentile(data[0],0.75)-np.percentile(data[0],0.25))/2\n",
        "\n",
        "  # evaluate paramenters of Cauchy distribution using method of maximum likelihood\n",
        "  def cauchy_mle(k):\n",
        "      return -np.sum(np.log(1/(np.pi*k[1]*(1 + ((data[0]-k[0])/k[1])**2))))\n",
        "  res = spop.minimize(cauchy_mle, [loc_cauchy, scale_cauchy], method='Powell')\n",
        "  loc_cauchy_mle = res.x[0]\n",
        "  scale_cauchy_mle = res.x[1]\n",
        "\n",
        "  # evaluate parameters of hypersecant using method of maximum likelihood\n",
        "  def hypersecant_mle(k):\n",
        "      return -np.sum(np.log(np.pi/(k[1])*np.exp(np.pi/2*(data[0]-k[0])/k[1])/(1+np.exp(np.pi*(data[0]-k[0])/k[1]))))\n",
        "  res = spop.minimize(hypersecant_mle, [mean, std], method='Powell')\n",
        "  loc_hypersecant_mle = res.x[0]\n",
        "  scale_hypersecant_mle = res.x[1]\n",
        "\n",
        "  # evaluate parameters of logistic distribution using method of moments\n",
        "  loc_logistic = mean\n",
        "  scale_logistic = 3**(1/2)/np.pi*std\n",
        "\n",
        "  # evaluate parameters of logistic disctribution using method of maximum likelihood\n",
        "  def logistic_mle(k):\n",
        "      return -np.sum(np.log(np.exp(-(data[0]-k[0])/k[1])/(k[1]*(1+np.exp(-(data[0]-k[0])/k[1]))**2)))\n",
        "  res = spop.minimize(logistic_mle, [loc_logistic, scale_logistic], method='Powell')\n",
        "  loc_logistic_mle = res.x[0]\n",
        "  scale_logistic_mle = res.x[1]\n",
        "\n",
        "  # evaluate parameters of Student distribution using method of moments\n",
        "  df_student = 6/kurt + 4\n",
        "  loc_student = mean\n",
        "  scale_student = std*((df_student - 2)/df_student)**(1/2)\n",
        "\n",
        "\n",
        "  # create columns with functions of theoretical distributions based on evaluated parameters\n",
        "  data['normal']=sps.norm.cdf(data[0],loc=mean,scale=std)\n",
        "  data['cauchy-MM']=1/np.pi*np.arctan((data[0]-loc_cauchy)/scale_cauchy)+1/2\n",
        "  data['cauchy-MLE']=1/np.pi*np.arctan((data[0]-loc_cauchy_mle)/scale_cauchy_mle)+1/2\n",
        "  data['laplas1']=1/2*np.exp((data[data[0]<=loc_laplace][0]-med)/scale_laplace)\n",
        "  data['laplas2']=1-1/2*np.exp(-(data[data[0]>med][0]-loc_laplace)/scale_laplace)\n",
        "  data['laplas']=data['laplas1'].replace(np.nan,0)+data['laplas2'].replace(np.nan,0)\n",
        "  data['hypersecant-MM']=2/np.pi*np.arctan(np.exp(np.pi*(data[0]-mean)/(2*std)))\n",
        "  data['hypersecant-MLE']=2/np.pi*np.arctan(np.exp(np.pi*(data[0]-loc_hypersecant_mle)/(2*scale_hypersecant_mle)))\n",
        "  data['student']=sps.t.cdf((data[0]-loc_student)/(scale_student),df_student,loc=0,scale=1)\n",
        "  data['logistic-MM']=1/(1+np.exp(-(data[0]-loc_logistic)/scale_logistic))\n",
        "  data['logistic-MLE']=1/(1+np.exp(-(data[0]-loc_logistic_mle)/scale_logistic_mle))\n",
        "\n",
        "  # compare theoretical functions with emperic ones for each distribution\n",
        "  distributions = ['normal', 'laplas', 'hypersecant-MM', 'hypersecant-MLE', 'cauchy-MM', 'cauchy-MLE', 'student', 'logistic-MM', 'logistic-MLE']\n",
        "\n",
        "  # separate plots between symbols\n",
        "  print('________________________________________________')\n",
        "  print(i)\n",
        "\n",
        "  pvalues = {}\n",
        "  supremums = {}\n",
        "  for dist in distributions:\n",
        "    \n",
        "    # calculate supremum\n",
        "    KS_array = abs(data['rank']-data[dist])\n",
        "    KS = max(KS_array)\n",
        "    \n",
        "    # calculate p-value (probability of data to follow this distribution)\n",
        "    KS_p = np.exp(-KS**2*len(data))\n",
        "    pvalues[dist] = KS_p\n",
        "    supremums[dist] = KS\n",
        "\n",
        "  pvalues = {k: round(v, 4) for k, v in pvalues.items()}\n",
        "  supremums = {k: round(v, 4) for k, v in supremums.items()}\n",
        "  pvalues_max = max(pvalues, key=pvalues.get)\n",
        "  supremums_max = max(supremums, key=supremums.get)\n",
        "\n",
        "  print('P-values:')\n",
        "  print(pvalues)\n",
        "\n",
        "  # visualize distributions with highest p-value\n",
        "  print()\n",
        "  print(pvalues_max, i)\n",
        "  print()\n",
        "  print('supremum '+str(supremums[pvalues_max]))\n",
        "  print('p-value '+str(max(pvalues.values())))\n",
        "  if pvalues[pvalues_max] > 0.1:\n",
        "      print('distribution is valid')\n",
        "  else:\n",
        "      print('distribution is not valid')\n",
        "  plt.figure(pvalues_max)\n",
        "  plt.plot(data[0],data['rank'])\n",
        "  plt.plot(data[0],data[pvalues_max])\n",
        "  plt.title(pvalues_max)\n",
        "  plt.show()"
      ],
      "metadata": {
        "colab": {
          "base_uri": "https://localhost:8080/",
          "height": 0
        },
        "id": "af1pGmlBK846",
        "outputId": "25fed2ab-7c72-4044-f4bd-3024b1a680ae"
      },
      "execution_count": 34,
      "outputs": [
        {
          "output_type": "stream",
          "name": "stdout",
          "text": [
            "________________________________________________\n",
            "GOOGL\n",
            "P-values:\n",
            "{'normal': 0.0, 'laplas': 0.0, 'hypersecant-MM': 0.0, 'hypersecant-MLE': 0.0632, 'cauchy-MM': 0.0, 'cauchy-MLE': 0.0012, 'student': 0.0, 'logistic-MM': 0.0, 'logistic-MLE': 0.0}\n",
            "\n",
            "hypersecant-MLE GOOGL\n",
            "\n",
            "supremum 0.0331\n",
            "p-value 0.0632\n",
            "distribution is not valid\n"
          ]
        },
        {
          "output_type": "display_data",
          "data": {
            "text/plain": [
              "<Figure size 432x288 with 1 Axes>"
            ],
            "image/png": "[encoded data removed]"
          },
          "metadata": {
            "needs_background": "light"
          }
        },
        {
          "output_type": "stream",
          "name": "stdout",
          "text": [
            "________________________________________________\n",
            "Meta\n",
            "P-values:\n",
            "{'normal': 0.0, 'laplas': 0.2832, 'hypersecant-MM': 0.0007, 'hypersecant-MLE': 0.1771, 'cauchy-MM': 0.0, 'cauchy-MLE': 0.0027, 'student': 0.0034, 'logistic-MM': 0.0, 'logistic-MLE': 0.0222}\n",
            "\n",
            "laplas Meta\n",
            "\n",
            "supremum 0.0224\n",
            "p-value 0.2832\n",
            "distribution is valid\n"
          ]
        },
        {
          "output_type": "display_data",
          "data": {
            "text/plain": [
              "<Figure size 432x288 with 1 Axes>"
            ],
            "image/png": "[encoded data removed]"
          },
          "metadata": {
            "needs_background": "light"
          }
        },
        {
          "output_type": "stream",
          "name": "stdout",
          "text": [
            "________________________________________________\n",
            "AAPL\n",
            "P-values:\n",
            "{'normal': 0.0, 'laplas': 0.0002, 'hypersecant-MM': 0.0, 'hypersecant-MLE': 0.0, 'cauchy-MM': 0.0007, 'cauchy-MLE': 0.0011, 'student': 0.0, 'logistic-MM': 0.0, 'logistic-MLE': 0.0}\n",
            "\n",
            "cauchy-MLE AAPL\n",
            "\n",
            "supremum 0.0519\n",
            "p-value 0.0011\n",
            "distribution is not valid\n"
          ]
        },
        {
          "output_type": "display_data",
          "data": {
            "text/plain": [
              "<Figure size 432x288 with 1 Axes>"
            ],
            "image/png": "[encoded data removed]"
          },
          "metadata": {
            "needs_background": "light"
          }
        }
      ]
    },
    {
      "cell_type": "markdown",
      "source": [
        "Based on research above, we can tell that:\n",
        "- Google return distribution can be best described by Hypersecant-MLE (Maximum likelihood estimation)\n",
        "- Meta return distribution can be best described by Laplas distribution (Hypersecant-MLE also showed p-value above 0.1)\n",
        "- AAPL return distribution can be best described by Cauchy-MLE (Maximum likelihood estimation)  \n",
        "\n",
        "However, only Meta return distribution's p-value is above 0.1 (0.28), other p-values are pretty low"
      ],
      "metadata": {
        "id": "d6bX4lYXhODv"
      }
    },
    {
      "cell_type": "markdown",
      "source": [
        "### Stationarity"
      ],
      "metadata": {
        "id": "wjF6CBZanGqv"
      }
    },
    {
      "cell_type": "markdown",
      "source": [
        "#### AAPL"
      ],
      "metadata": {
        "id": "wy58Bk7oiiuX"
      }
    },
    {
      "cell_type": "code",
      "source": [
        "AAPL = df[df['symbol'] == 'AAPL']['return']\n",
        "Meta = df[df['symbol'] == 'Meta']['return']\n",
        "GOOGL = df[df['symbol'] == 'GOOGL']['return']"
      ],
      "metadata": {
        "id": "IXst-6w3g6Oo"
      },
      "execution_count": 35,
      "outputs": []
    },
    {
      "cell_type": "code",
      "source": [
        "AAPL.plot(figsize=(12,6))"
      ],
      "metadata": {
        "colab": {
          "base_uri": "https://localhost:8080/",
          "height": 0
        },
        "id": "Wbkj52QNg6bj",
        "outputId": "6605a9f3-4285-45e8-ab42-9a0d55c6c8c6"
      },
      "execution_count": 36,
      "outputs": [
        {
          "output_type": "execute_result",
          "data": {
            "text/plain": [
              "<matplotlib.axes._subplots.AxesSubplot at 0x7fedf51ada50>"
            ]
          },
          "metadata": {},
          "execution_count": 36
        },
        {
          "output_type": "display_data",
          "data": {
            "text/plain": [
              "<Figure size 864x432 with 1 Axes>"
            ],
            "image/png": "[encoded data removed]"
          },
          "metadata": {
            "needs_background": "light"
          }
        }
      ]
    },
    {
      "cell_type": "code",
      "source": [
        "test = sm.tsa.adfuller(AAPL)\n",
        "print('adf: ', test[0]) \n",
        "print('p-value: ', test[1])\n",
        "print('Critical values: ', test[4])\n",
        "if test[0]> test[4]['5%']: \n",
        "    print('Not statinary')\n",
        "else:\n",
        "    print('Stationary')"
      ],
      "metadata": {
        "colab": {
          "base_uri": "https://localhost:8080/"
        },
        "id": "69mjHGtZtqdi",
        "outputId": "fcdd7be8-1fd7-4714-b54b-e86811fa2edd"
      },
      "execution_count": 37,
      "outputs": [
        {
          "output_type": "stream",
          "name": "stdout",
          "text": [
            "adf:  -50.372600885538866\n",
            "p-value:  0.0\n",
            "Critical values:  {'1%': -3.4329507078222634, '5%': -2.8626889823128554, '10%': -2.567381647203466}\n",
            "Stationary\n"
          ]
        }
      ]
    },
    {
      "cell_type": "markdown",
      "source": [
        "#### Meta"
      ],
      "metadata": {
        "id": "zKJJCRjvilg_"
      }
    },
    {
      "cell_type": "code",
      "source": [
        "Meta.plot(figsize=(12,6))"
      ],
      "metadata": {
        "colab": {
          "base_uri": "https://localhost:8080/",
          "height": 0
        },
        "id": "wW4v_byXqriR",
        "outputId": "197a66a6-788b-4724-e300-91a09529585f"
      },
      "execution_count": 38,
      "outputs": [
        {
          "output_type": "execute_result",
          "data": {
            "text/plain": [
              "<matplotlib.axes._subplots.AxesSubplot at 0x7fedf510a7d0>"
            ]
          },
          "metadata": {},
          "execution_count": 38
        },
        {
          "output_type": "display_data",
          "data": {
            "text/plain": [
              "<Figure size 864x432 with 1 Axes>"
            ],
            "image/png": "[encoded data removed]"
          },
          "metadata": {
            "needs_background": "light"
          }
        }
      ]
    },
    {
      "cell_type": "code",
      "source": [
        "test = sm.tsa.adfuller(Meta)\n",
        "print('adf: ', test[0]) \n",
        "print('p-value: ', test[1])\n",
        "print('Critical values: ', test[4])\n",
        "if test[0]> test[4]['5%']: \n",
        "    print('Not statinary')\n",
        "else:\n",
        "    print('Stationary')"
      ],
      "metadata": {
        "colab": {
          "base_uri": "https://localhost:8080/"
        },
        "id": "ZGHhQx7Htstq",
        "outputId": "413282ce-5f9d-49ab-a0aa-d8a6acaf0c14"
      },
      "execution_count": 39,
      "outputs": [
        {
          "output_type": "stream",
          "name": "stdout",
          "text": [
            "adf:  -17.306509570866336\n",
            "p-value:  5.5876903333150976e-30\n",
            "Critical values:  {'1%': -3.432959008741782, '5%': -2.862692648021296, '10%': -2.567383598871881}\n",
            "Stationary\n"
          ]
        }
      ]
    },
    {
      "cell_type": "markdown",
      "source": [
        "#### GOOGL"
      ],
      "metadata": {
        "id": "Xpiqmiqyi0xA"
      }
    },
    {
      "cell_type": "code",
      "source": [
        "GOOGL.plot(figsize=(12,6))"
      ],
      "metadata": {
        "colab": {
          "base_uri": "https://localhost:8080/",
          "height": 370
        },
        "id": "9PB08shwqtRd",
        "outputId": "0b6bc2ae-7a34-41cc-ba88-0c61f42659cb"
      },
      "execution_count": 40,
      "outputs": [
        {
          "output_type": "execute_result",
          "data": {
            "text/plain": [
              "<matplotlib.axes._subplots.AxesSubplot at 0x7fedf2844590>"
            ]
          },
          "metadata": {},
          "execution_count": 40
        },
        {
          "output_type": "display_data",
          "data": {
            "text/plain": [
              "<Figure size 864x432 with 1 Axes>"
            ],
            "image/png": "[encoded data removed]"
          },
          "metadata": {
            "needs_background": "light"
          }
        }
      ]
    },
    {
      "cell_type": "code",
      "source": [
        "test = sm.tsa.adfuller(GOOGL)\n",
        "print('adf: ', test[0]) \n",
        "print('p-value: ', test[1])\n",
        "print('Critical values: ', test[4])\n",
        "if test[0]> test[4]['5%']: \n",
        "    print('Not statinary')\n",
        "else:\n",
        "    print('Stationary')"
      ],
      "metadata": {
        "colab": {
          "base_uri": "https://localhost:8080/"
        },
        "id": "ilvdf-jssgQy",
        "outputId": "50a3067f-1dea-4026-c553-62de6869efb7"
      },
      "execution_count": 41,
      "outputs": [
        {
          "output_type": "stream",
          "name": "stdout",
          "text": [
            "adf:  -50.307855852460065\n",
            "p-value:  0.0\n",
            "Critical values:  {'1%': -3.4329507078222634, '5%': -2.8626889823128554, '10%': -2.567381647203466}\n",
            "Stationary\n"
          ]
        }
      ]
    },
    {
      "cell_type": "markdown",
      "source": [
        "Based on research above, we can conclude that all time series are stationary, which means that  \n",
        "**its' properties doesn't depend on the time at which time series are observed**  "
      ],
      "metadata": {
        "id": "0X_EX4x3geox"
      }
    },
    {
      "cell_type": "markdown",
      "source": [
        "## Granger Causality"
      ],
      "metadata": {
        "id": "RJ0vqQAvs3sT"
      }
    },
    {
      "cell_type": "code",
      "source": [
        "def corr_matrix(data, det=True, pltx=10, plty=10):\n",
        "    '''Funcion is called for making correlation matrix'''\n",
        "    \n",
        "    X = data.corr()\n",
        "    if det:\n",
        "        \n",
        "        evals,evec = np.linalg.eig(X)\n",
        "        ev_product = np.prod(evals)\n",
        "    \n",
        "        print(f'Rank of Matrix: {np.linalg.matrix_rank(X)}')\n",
        "        print(f'Determinant of matrix: {np.round(ev_product,4)}')\n",
        "        print(f'Shape of matrix: {np.shape(X)}')\n",
        "    \n",
        "    plt.figure(figsize=(pltx,plty))\n",
        "    sns.heatmap(X,vmin=0,vmax=.9,annot=True,square=True)\n",
        "    plt.show()"
      ],
      "metadata": {
        "id": "WZQUmgkZu9SV"
      },
      "execution_count": 42,
      "outputs": []
    },
    {
      "cell_type": "code",
      "source": [
        "corr_matrix(df)"
      ],
      "metadata": {
        "colab": {
          "base_uri": "https://localhost:8080/",
          "height": 636
        },
        "id": "1FEqQ_vKwLGx",
        "outputId": "b61f51e4-ace5-4d8e-8e45-be614f537b6e"
      },
      "execution_count": 43,
      "outputs": [
        {
          "output_type": "stream",
          "name": "stdout",
          "text": [
            "Rank of Matrix: 6\n",
            "Determinant of matrix: 0.0\n",
            "Shape of matrix: (6, 6)\n"
          ]
        },
        {
          "output_type": "display_data",
          "data": {
            "text/plain": [
              "<Figure size 720x720 with 2 Axes>"
            ],
            "image/png": "[encoded data removed]"
          },
          "metadata": {
            "needs_background": "light"
          }
        }
      ]
    },
    {
      "cell_type": "markdown",
      "source": [
        "Slightly higher correlation between volume and return, let's check with Granger Causality"
      ],
      "metadata": {
        "id": "IVfq_Aa80gRW"
      }
    },
    {
      "cell_type": "code",
      "source": [
        "from statsmodels.tsa.stattools import grangercausalitytests\n",
        "\n",
        "dict_of_p1 = {}\n",
        "dict_of_p2 = {}\n",
        "for i in df.drop(['return', 'symbol'], axis=1).columns:\n",
        "  dict_of_p1[i] = round(grangercausalitytests(df[['return', i]], maxlag=[3])[3][0]['ssr_ftest'][1], 4)\n",
        "  dict_of_p2[i] = round(grangercausalitytests(df[[i, 'return']], maxlag=[3])[3][0]['ssr_ftest'][1], 4)"
      ],
      "metadata": {
        "colab": {
          "base_uri": "https://localhost:8080/"
        },
        "collapsed": true,
        "id": "MCh3fd5jxACY",
        "outputId": "6bdf4fc2-7839-475a-a9e2-cbbd642cd9a0"
      },
      "execution_count": 44,
      "outputs": [
        {
          "output_type": "stream",
          "name": "stdout",
          "text": [
            "\n",
            "Granger Causality\n",
            "number of lags (no zero) 3\n",
            "ssr based F test:         F=2.1464  , p=0.0922  , df_denom=7544, df_num=3\n",
            "ssr based chi2 test:   chi2=6.4453  , p=0.0918  , df=3\n",
            "likelihood ratio test: chi2=6.4425  , p=0.0920  , df=3\n",
            "parameter F test:         F=2.1464  , p=0.0922  , df_denom=7544, df_num=3\n",
            "\n",
            "Granger Causality\n",
            "number of lags (no zero) 3\n",
            "ssr based F test:         F=0.9379  , p=0.4213  , df_denom=7544, df_num=3\n",
            "ssr based chi2 test:   chi2=2.8163  , p=0.4208  , df=3\n",
            "likelihood ratio test: chi2=2.8157  , p=0.4209  , df=3\n",
            "parameter F test:         F=0.9379  , p=0.4213  , df_denom=7544, df_num=3\n",
            "\n",
            "Granger Causality\n",
            "number of lags (no zero) 3\n",
            "ssr based F test:         F=2.1371  , p=0.0933  , df_denom=7544, df_num=3\n",
            "ssr based chi2 test:   chi2=6.4172  , p=0.0930  , df=3\n",
            "likelihood ratio test: chi2=6.4144  , p=0.0931  , df=3\n",
            "parameter F test:         F=2.1371  , p=0.0933  , df_denom=7544, df_num=3\n",
            "\n",
            "Granger Causality\n",
            "number of lags (no zero) 3\n",
            "ssr based F test:         F=0.9410  , p=0.4198  , df_denom=7544, df_num=3\n",
            "ssr based chi2 test:   chi2=2.8257  , p=0.4193  , df=3\n",
            "likelihood ratio test: chi2=2.8252  , p=0.4194  , df=3\n",
            "parameter F test:         F=0.9410  , p=0.4198  , df_denom=7544, df_num=3\n",
            "\n",
            "Granger Causality\n",
            "number of lags (no zero) 3\n",
            "ssr based F test:         F=2.1356  , p=0.0935  , df_denom=7544, df_num=3\n",
            "ssr based chi2 test:   chi2=6.4126  , p=0.0932  , df=3\n",
            "likelihood ratio test: chi2=6.4099  , p=0.0933  , df=3\n",
            "parameter F test:         F=2.1356  , p=0.0935  , df_denom=7544, df_num=3\n",
            "\n",
            "Granger Causality\n",
            "number of lags (no zero) 3\n",
            "ssr based F test:         F=0.9652  , p=0.4080  , df_denom=7544, df_num=3\n",
            "ssr based chi2 test:   chi2=2.8984  , p=0.4076  , df=3\n",
            "likelihood ratio test: chi2=2.8978  , p=0.4077  , df=3\n",
            "parameter F test:         F=0.9652  , p=0.4080  , df_denom=7544, df_num=3\n",
            "\n",
            "Granger Causality\n",
            "number of lags (no zero) 3\n",
            "ssr based F test:         F=2.1115  , p=0.0965  , df_denom=7544, df_num=3\n",
            "ssr based chi2 test:   chi2=6.3403  , p=0.0962  , df=3\n",
            "likelihood ratio test: chi2=6.3376  , p=0.0963  , df=3\n",
            "parameter F test:         F=2.1115  , p=0.0965  , df_denom=7544, df_num=3\n",
            "\n",
            "Granger Causality\n",
            "number of lags (no zero) 3\n",
            "ssr based F test:         F=0.9693  , p=0.4061  , df_denom=7544, df_num=3\n",
            "ssr based chi2 test:   chi2=2.9107  , p=0.4056  , df=3\n",
            "likelihood ratio test: chi2=2.9101  , p=0.4057  , df=3\n",
            "parameter F test:         F=0.9693  , p=0.4061  , df_denom=7544, df_num=3\n",
            "\n",
            "Granger Causality\n",
            "number of lags (no zero) 3\n",
            "ssr based F test:         F=0.7412  , p=0.5274  , df_denom=7544, df_num=3\n",
            "ssr based chi2 test:   chi2=2.2256  , p=0.5269  , df=3\n",
            "likelihood ratio test: chi2=2.2252  , p=0.5270  , df=3\n",
            "parameter F test:         F=0.7412  , p=0.5274  , df_denom=7544, df_num=3\n",
            "\n",
            "Granger Causality\n",
            "number of lags (no zero) 3\n",
            "ssr based F test:         F=4.2637  , p=0.0051  , df_denom=7544, df_num=3\n",
            "ssr based chi2 test:   chi2=12.8029 , p=0.0051  , df=3\n",
            "likelihood ratio test: chi2=12.7921 , p=0.0051  , df=3\n",
            "parameter F test:         F=4.2637  , p=0.0051  , df_denom=7544, df_num=3\n"
          ]
        }
      ]
    },
    {
      "cell_type": "code",
      "source": [
        "print(dict_of_p1)\n",
        "print(dict_of_p2)"
      ],
      "metadata": {
        "colab": {
          "base_uri": "https://localhost:8080/"
        },
        "id": "z1RCO9jXx83x",
        "outputId": "822b0495-e54d-42fd-c3f5-3ea9706e0d2d"
      },
      "execution_count": 45,
      "outputs": [
        {
          "output_type": "stream",
          "name": "stdout",
          "text": [
            "{'open': 0.0922, 'high': 0.0933, 'low': 0.0935, 'close': 0.0965, 'volume': 0.5274}\n",
            "{'open': 0.4213, 'high': 0.4198, 'low': 0.408, 'close': 0.4061, 'volume': 0.0051}\n"
          ]
        }
      ]
    },
    {
      "cell_type": "markdown",
      "source": [
        "Based on findings, if we say that significance value is a>0.1  \n",
        "we can conclude that **'volume'** Granger-causes **'return'**"
      ],
      "metadata": {
        "id": "zW93Z4-1z5P1"
      }
    },
    {
      "cell_type": "markdown",
      "source": [
        "## Profit-and-loss"
      ],
      "metadata": {
        "id": "S0W4kPxQ0xEB"
      }
    },
    {
      "cell_type": "code",
      "source": [
        "# https://www.askpython.com/python/normal-distribution\n",
        "def normal_dist(x , mean , std):\n",
        "    prob_density = (np.pi*std) * np.exp(-0.5*((x-mean)/std)**2)\n",
        "    return prob_density\n",
        "\n",
        "mean = 0\n",
        "std = 1"
      ],
      "metadata": {
        "id": "nOhfwqfO_9cW"
      },
      "execution_count": 46,
      "outputs": []
    },
    {
      "cell_type": "code",
      "source": [
        "x = df[df['symbol'] == 'AAPL']['return'].shift(1) # shift backwards ( the day before )\n",
        "pdf = normal_dist(x,mean,std)\n",
        "\n",
        "ap_df = pd.DataFrame(pdf)"
      ],
      "metadata": {
        "id": "7Q7fyBNwz4Y4"
      },
      "execution_count": 47,
      "outputs": []
    },
    {
      "cell_type": "code",
      "source": [
        "x = df[df['symbol'] == 'Meta']['return'].shift(1)\n",
        "pdf = normal_dist(x,mean,std)\n",
        "\n",
        "met_df = pd.DataFrame(pdf)"
      ],
      "metadata": {
        "id": "NLLHKQU2_mWY"
      },
      "execution_count": 48,
      "outputs": []
    },
    {
      "cell_type": "code",
      "source": [
        "x = df[df['symbol'] == 'GOOGL']['return'].shift(1)\n",
        "pdf = normal_dist(x,mean,std)\n",
        "\n",
        "gog_df = pd.DataFrame(pdf)"
      ],
      "metadata": {
        "id": "35z5pMXkAJE2"
      },
      "execution_count": 49,
      "outputs": []
    },
    {
      "cell_type": "code",
      "source": [
        "norm_forecast = pd.concat([ap_df, met_df, gog_df]).sort_index()\n",
        "norm_forecast.columns = ['forecast']"
      ],
      "metadata": {
        "id": "OH2zDJoJANMi"
      },
      "execution_count": 50,
      "outputs": []
    },
    {
      "cell_type": "code",
      "source": [
        "forc_df = pd.concat([df, norm_forecast], axis=1)"
      ],
      "metadata": {
        "id": "_aE2_0UKCLpE"
      },
      "execution_count": 52,
      "outputs": []
    },
    {
      "cell_type": "code",
      "source": [
        "forc_df['pnl'] = forc_df['forecast'] * forc_df['return']"
      ],
      "metadata": {
        "id": "NKW6J57hCipP"
      },
      "execution_count": 53,
      "outputs": []
    },
    {
      "cell_type": "markdown",
      "source": [
        "pnl-i plot\n",
        "\n"
      ],
      "metadata": {
        "id": "vmt_A267DBbQ"
      }
    },
    {
      "cell_type": "code",
      "source": [
        "forc_df.pnl.plot(figsize=(12,6))"
      ],
      "metadata": {
        "colab": {
          "base_uri": "https://localhost:8080/",
          "height": 370
        },
        "id": "SA0MvOv-CxZO",
        "outputId": "6720443e-3ca0-4fed-de8c-f5c9499ea691"
      },
      "execution_count": 54,
      "outputs": [
        {
          "output_type": "execute_result",
          "data": {
            "text/plain": [
              "<matplotlib.axes._subplots.AxesSubplot at 0x7fedf52b25d0>"
            ]
          },
          "metadata": {},
          "execution_count": 54
        },
        {
          "output_type": "display_data",
          "data": {
            "text/plain": [
              "<Figure size 864x432 with 1 Axes>"
            ],
            "image/png": "[encoded data removed]"
          },
          "metadata": {
            "needs_background": "light"
          }
        }
      ]
    },
    {
      "cell_type": "markdown",
      "source": [
        "pnl = cumsum(pnl-i) plot"
      ],
      "metadata": {
        "id": "KolFYkUoE8rn"
      }
    },
    {
      "cell_type": "code",
      "source": [
        "forc_df.cumsum()['pnl'].plot(figsize=(12,6))"
      ],
      "metadata": {
        "colab": {
          "base_uri": "https://localhost:8080/",
          "height": 370
        },
        "id": "b9uOxdQ7EQ_z",
        "outputId": "26181214-dc0c-4a75-d7cc-e02f92a1e94d"
      },
      "execution_count": 55,
      "outputs": [
        {
          "output_type": "execute_result",
          "data": {
            "text/plain": [
              "<matplotlib.axes._subplots.AxesSubplot at 0x7fedf2688f50>"
            ]
          },
          "metadata": {},
          "execution_count": 55
        },
        {
          "output_type": "display_data",
          "data": {
            "text/plain": [
              "<Figure size 864x432 with 1 Axes>"
            ],
            "image/png": "[encoded data removed]"
          },
          "metadata": {
            "needs_background": "light"
          }
        }
      ]
    },
    {
      "cell_type": "markdown",
      "source": [
        "## Sharpe Ratio"
      ],
      "metadata": {
        "id": "973rcm-4HBTe"
      }
    },
    {
      "cell_type": "code",
      "source": [
        "# https://medium.datadriveninvestor.com/the-sharpe-ratio-with-python-from-scratch-fbb1d5e490b9\n",
        "# Sharpe Ratio From Scratch\n",
        "def sharpe_ratio(data, risk_free_rate=0.0):\n",
        "    # Calculate Average Daily Return\n",
        "    mean_daily_return = sum(data) / len(data)\n",
        "    # Calculate Standard Deviation\n",
        "    s = data.std()\n",
        "    # Calculate Daily Sharpe Ratio\n",
        "    daily_sharpe_ratio = (mean_daily_return - risk_free_rate) / s\n",
        "    \n",
        "    return sharpe_ratio"
      ],
      "metadata": {
        "id": "D2Xq8zbrHub-"
      },
      "execution_count": 56,
      "outputs": []
    },
    {
      "cell_type": "code",
      "source": [
        "AAPL = df[df['symbol'] == 'AAPL']\n",
        "Meta = df[df['symbol'] == 'Meta']\n",
        "GOOGL = df[df['symbol'] == 'GOOGL']"
      ],
      "metadata": {
        "id": "3EcvgKwdJAMI"
      },
      "execution_count": 57,
      "outputs": []
    },
    {
      "cell_type": "code",
      "source": [
        "rolstd_AAPL = pd.Series(AAPL['return']).rolling(window=5).std()\n",
        "rolstd_Meta = pd.Series(Meta['return']).rolling(window=5).std()\n",
        "rolstd_GOOGL = pd.Series(GOOGL['return']).rolling(window=5).std()"
      ],
      "metadata": {
        "id": "z9Vfu9H5TYXU"
      },
      "execution_count": 58,
      "outputs": []
    },
    {
      "cell_type": "code",
      "source": [
        "AAPL['rol_std'] = rolstd_AAPL\n",
        "Meta['rol_std'] = rolstd_Meta\n",
        "GOOGL['rol_std'] = rolstd_GOOGL"
      ],
      "metadata": {
        "id": "irry5skRU3Pr"
      },
      "execution_count": 59,
      "outputs": []
    },
    {
      "cell_type": "code",
      "source": [
        "AAPL['f_std'] = AAPL['return'] + rolstd_AAPL\n",
        "Meta['f_std'] = Meta['return'] + rolstd_Meta\n",
        "GOOGL['f_std'] = GOOGL['return'] + rolstd_GOOGL"
      ],
      "metadata": {
        "id": "9P17SpyXUG9j"
      },
      "execution_count": 61,
      "outputs": []
    },
    {
      "cell_type": "code",
      "source": [
        "AAPL['pnl'] = AAPL['f_std'] * AAPL['return']\n",
        "Meta['pnl'] = Meta['f_std'] * Meta['return']\n",
        "GOOGL['pnl'] = GOOGL['f_std'] * GOOGL['return']"
      ],
      "metadata": {
        "id": "bdAdPRQ5wWJz"
      },
      "execution_count": 66,
      "outputs": []
    },
    {
      "cell_type": "code",
      "source": [
        "def return_hit(row):\n",
        "  if (row['return'] > 0) & (row['pnl'] > 0) | ((row['return'] < 0) & (row['pnl'] < 0)):\n",
        "    return 1\n",
        "  else:\n",
        "    return 0"
      ],
      "metadata": {
        "id": "Lb-kC8C0O9Zw"
      },
      "execution_count": 67,
      "outputs": []
    },
    {
      "cell_type": "code",
      "source": [
        "AAPL['hit_rate'] = AAPL.apply(return_hit, axis=1)\n",
        "Meta['hit_rate'] = Meta.apply(return_hit, axis=1)\n",
        "GOOGL['hit_rate'] = GOOGL.apply(return_hit, axis=1)"
      ],
      "metadata": {
        "id": "3fFKxk9kw3hG"
      },
      "execution_count": 70,
      "outputs": []
    },
    {
      "cell_type": "code",
      "source": [
        "AAPL['hit_rate_roll'] = AAPL['hit_rate'].rolling(5).mean()\n",
        "Meta['hit_rate_roll'] = Meta['hit_rate'].rolling(5).mean()\n",
        "GOOGL['hit_rate_roll'] = GOOGL['hit_rate'].rolling(5).mean()"
      ],
      "metadata": {
        "id": "6XdFs0qNylzt"
      },
      "execution_count": 100,
      "outputs": []
    },
    {
      "cell_type": "code",
      "source": [
        "AAPL['sharpe'] = AAPL['pnl'].rolling(5).mean()/AAPL['pnl'].std()\n",
        "Meta['sharpe'] = Meta['pnl'].rolling(5).mean()/Meta['pnl'].std()\n",
        "GOOGL['sharpe'] = GOOGL['pnl'].rolling(5).mean()/GOOGL['pnl'].std()"
      ],
      "metadata": {
        "id": "bda8E6g1I3M8"
      },
      "execution_count": 87,
      "outputs": []
    },
    {
      "cell_type": "code",
      "source": [
        "plt.scatter(AAPL['sharpe'], AAPL['hit_rate_roll'])"
      ],
      "metadata": {
        "colab": {
          "base_uri": "https://localhost:8080/",
          "height": 282
        },
        "id": "iGcOjKelxlZ-",
        "outputId": "3cadf761-0c2c-41b1-dce0-9224e559d007"
      },
      "execution_count": 101,
      "outputs": [
        {
          "output_type": "execute_result",
          "data": {
            "text/plain": [
              "<matplotlib.collections.PathCollection at 0x7fedf0db21d0>"
            ]
          },
          "metadata": {},
          "execution_count": 101
        },
        {
          "output_type": "display_data",
          "data": {
            "text/plain": [
              "<Figure size 432x288 with 1 Axes>"
            ],
            "image/png": "[encoded data removed]"
          },
          "metadata": {
            "needs_background": "light"
          }
        }
      ]
    },
    {
      "cell_type": "code",
      "source": [
        "plt.scatter(Meta['sharpe'], Meta['hit_rate_roll'])"
      ],
      "metadata": {
        "colab": {
          "base_uri": "https://localhost:8080/",
          "height": 282
        },
        "id": "JY8s2qyfyUVS",
        "outputId": "7f423099-5bcf-4005-adbc-6e6157f6dff5"
      },
      "execution_count": 102,
      "outputs": [
        {
          "output_type": "execute_result",
          "data": {
            "text/plain": [
              "<matplotlib.collections.PathCollection at 0x7fedf0d8ef10>"
            ]
          },
          "metadata": {},
          "execution_count": 102
        },
        {
          "output_type": "display_data",
          "data": {
            "text/plain": [
              "<Figure size 432x288 with 1 Axes>"
            ],
            "image/png": "[encoded data removed]"
          },
          "metadata": {
            "needs_background": "light"
          }
        }
      ]
    },
    {
      "cell_type": "code",
      "source": [
        "plt.scatter(GOOGL['sharpe'], GOOGL['hit_rate_roll'])"
      ],
      "metadata": {
        "colab": {
          "base_uri": "https://localhost:8080/",
          "height": 282
        },
        "id": "p6sOJ_K3yUr1",
        "outputId": "008bcc86-7d97-49e9-a547-0d7f2c1e9452"
      },
      "execution_count": 103,
      "outputs": [
        {
          "output_type": "execute_result",
          "data": {
            "text/plain": [
              "<matplotlib.collections.PathCollection at 0x7fedf0d05650>"
            ]
          },
          "metadata": {},
          "execution_count": 103
        },
        {
          "output_type": "display_data",
          "data": {
            "text/plain": [
              "<Figure size 432x288 with 1 Axes>"
            ],
            "image/png": "[encoded data removed]"
          },
          "metadata": {
            "needs_background": "light"
          }
        }
      ]
    }
  ]
}